{
 "cells": [
  {
   "cell_type": "code",
   "execution_count": 1,
   "metadata": {},
   "outputs": [],
   "source": [
    "%load_ext autoreload\n",
    "%autoreload 2"
   ]
  },
  {
   "cell_type": "code",
   "execution_count": 2,
   "metadata": {},
   "outputs": [
    {
     "data": {
      "text/plain": [
       "'\\nPurpose: to experiment with the built in functions of the \\nbasic built-in datastructures:\\n\\nstr\\nlist\\ndictionary\\ndeque\\nheap\\n\\nCheat sheet: https://github.com/AbdulMalikDev/PythonCheatSheet\\n'"
      ]
     },
     "execution_count": 2,
     "metadata": {},
     "output_type": "execute_result"
    }
   ],
   "source": [
    "\"\"\"\n",
    "Purpose: to experiment with the built in functions of the \n",
    "basic built-in datastructures:\n",
    "\n",
    "str\n",
    "list\n",
    "dictionary\n",
    "deque\n",
    "heap\n",
    "\n",
    "Cheat sheet: https://github.com/AbdulMalikDev/PythonCheatSheet\n",
    "\"\"\""
   ]
  },
  {
   "cell_type": "code",
   "execution_count": 3,
   "metadata": {},
   "outputs": [],
   "source": [
    "from os import sys\n",
    "from pathlib import Path\n",
    "p = \"../algorithm_tools/\"\n",
    "p = Path(p)\n",
    "if p.exists():\n",
    "    sys.path.append(str(p.absolute()))\n",
    "else:\n",
    "    raise Exception(\"\")"
   ]
  },
  {
   "cell_type": "markdown",
   "metadata": {},
   "source": [
    "## Operators"
   ]
  },
  {
   "cell_type": "code",
   "execution_count": 4,
   "metadata": {},
   "outputs": [
    {
     "name": "stdout",
     "output_type": "stream",
     "text": [
      "25\n",
      "3\n"
     ]
    },
    {
     "data": {
      "text/plain": [
       "(25, 3)"
      ]
     },
     "execution_count": 4,
     "metadata": {},
     "output_type": "execute_result"
    }
   ],
   "source": [
    "x = 103\n",
    "divisor = 4\n",
    "print(x // divisor)\n",
    "print(x % divisor)\n",
    "divmod(x,divisor)\n"
   ]
  },
  {
   "cell_type": "markdown",
   "metadata": {},
   "source": [
    "## Strings"
   ]
  },
  {
   "cell_type": "code",
   "execution_count": 5,
   "metadata": {},
   "outputs": [
    {
     "data": {
      "text/plain": [
       "''"
      ]
     },
     "execution_count": 5,
     "metadata": {},
     "output_type": "execute_result"
    }
   ],
   "source": [
    "\"\"\"\"\"\""
   ]
  },
  {
   "cell_type": "code",
   "execution_count": 6,
   "metadata": {},
   "outputs": [],
   "source": [
    "# truth value of string\n",
    "x = \"hello\"\n",
    "x = \"\"\n",
    "if x:\n",
    "    print('hi')"
   ]
  },
  {
   "cell_type": "code",
   "execution_count": 7,
   "metadata": {},
   "outputs": [],
   "source": [
    "s = \"+++-hELLO123 there\"\n",
    "\n",
    "results = [\n",
    "s.lower(), # makes all lowercase\n",
    "s.upper(),\n",
    "s.title(), # make captialize first letter\n",
    "s.strip(\"++-\"),#removes characters from beginning and end of string\n",
    "s.split(\" \"),# splits into list on whitespace (default) or specified arg\n",
    "s.find(\"L\"), #returns index of FIRST occurence of string, -1 if none found\n",
    "s.replace(\"L\",\"y\"), #replaces ALL OCCURRENCES of first argument with second\n",
    "\"---\".join(s.split(\"e\")),\n",
    "\"E\" in s, #deterimines if substring is found\n",
    "s[5:9], # can slice a string\n",
    "[k for k in s], # can iterate through string like list\n",
    "s + \" hhhiiiii\" # can concatenate strings, but creates new str obj\n",
    "]"
   ]
  },
  {
   "cell_type": "code",
   "execution_count": 8,
   "metadata": {},
   "outputs": [
    {
     "name": "stdout",
     "output_type": "stream",
     "text": [
      "+++-hello123 there\n",
      "+++-HELLO123 THERE\n",
      "+++-Hello123 There\n",
      "hELLO123 there\n",
      "['+++-hELLO123', 'there']\n",
      "6\n",
      "+++-hEyyO123 there\n",
      "+++-hELLO123 th---r---\n",
      "True\n",
      "ELLO\n",
      "['+', '+', '+', '-', 'h', 'E', 'L', 'L', 'O', '1', '2', '3', ' ', 't', 'h', 'e', 'r', 'e']\n",
      "+++-hELLO123 there hhhiiiii\n"
     ]
    }
   ],
   "source": [
    "for k in results:\n",
    "    print(k)"
   ]
  },
  {
   "cell_type": "code",
   "execution_count": 9,
   "metadata": {},
   "outputs": [
    {
     "name": "stdout",
     "output_type": "stream",
     "text": [
      "incrementally concatenating: 0.00021791458129882812\n",
      "join: 2.5987625122070312e-05\n"
     ]
    }
   ],
   "source": [
    "import string_utils as stru\n",
    "stru.best_string_concatenation()"
   ]
  },
  {
   "cell_type": "markdown",
   "metadata": {},
   "source": [
    "## Lists"
   ]
  },
  {
   "cell_type": "code",
   "execution_count": 59,
   "metadata": {},
   "outputs": [],
   "source": [
    "import list_utils as lu"
   ]
  },
  {
   "cell_type": "code",
   "execution_count": 61,
   "metadata": {},
   "outputs": [
    {
     "name": "stdout",
     "output_type": "stream",
     "text": [
      "Runtime for preallocation = 1.0967254638671875e-05\n",
      "Runtime for appending list = 2.1457672119140625e-06\n"
     ]
    }
   ],
   "source": [
    "lu.best_way_to_initialize_list()"
   ]
  },
  {
   "cell_type": "code",
   "execution_count": 25,
   "metadata": {},
   "outputs": [
    {
     "data": {
      "text/plain": [
       "[1, 2, 2, 10, 3, [1, 5, 6]]"
      ]
     },
     "execution_count": 25,
     "metadata": {},
     "output_type": "execute_result"
    }
   ],
   "source": [
    "nums = [1,2,2,3,10,3,[1,5,6]]\n",
    "\n",
    "nums.remove(3)\n",
    "nums.copy()"
   ]
  },
  {
   "cell_type": "code",
   "execution_count": 36,
   "metadata": {},
   "outputs": [
    {
     "name": "stdout",
     "output_type": "stream",
     "text": [
      "[1, 2, 2, 10, [1, 5, 6], 4, 5, 65, 7, 4, 5, 65, 7, 4, 5, 65, 7, 4, 5, 65, 7, 4, 5, 65, 7, 4, 5, 65, 7]\n",
      "[1, 2, 2, 10, 4, 5, 65, 7, 4, 5, 65, 7, 4, 5, 65, 7, 4, 5, 65, 7, 4, 5, 65, 7, 4, 5, 65, 7]\n"
     ]
    }
   ],
   "source": [
    "nums.extend([4,5,65,7])\n",
    "print(nums)\n",
    "del nums[4]\n",
    "print(nums)\n"
   ]
  },
  {
   "cell_type": "code",
   "execution_count": 40,
   "metadata": {},
   "outputs": [
    {
     "name": "stdout",
     "output_type": "stream",
     "text": [
      "[1, 1, 2, 3, 4, 5, 65, 7, 4, 5, 1, 2, 3, 4, 7, 4, 5, 65, 7, 4, 5, 65, 7, 4, 5, 65, 7]\n"
     ]
    }
   ],
   "source": [
    "nums[10:15] = [1,2,3,4]\n",
    "print(nums)"
   ]
  },
  {
   "cell_type": "code",
   "execution_count": null,
   "metadata": {},
   "outputs": [],
   "source": []
  },
  {
   "cell_type": "code",
   "execution_count": null,
   "metadata": {},
   "outputs": [],
   "source": []
  },
  {
   "cell_type": "markdown",
   "metadata": {},
   "source": [
    "## Exceptions"
   ]
  },
  {
   "cell_type": "code",
   "execution_count": 6,
   "metadata": {},
   "outputs": [
    {
     "ename": "AssertionError",
     "evalue": "The number should not exceed 5. (x = 10)",
     "output_type": "error",
     "traceback": [
      "\u001b[0;31m---------------------------------------------------------------------------\u001b[0m",
      "\u001b[0;31mAssertionError\u001b[0m                            Traceback (most recent call last)",
      "Cell \u001b[0;32mIn[6], line 3\u001b[0m\n\u001b[1;32m      1\u001b[0m \u001b[38;5;28;01mimport\u001b[39;00m \u001b[38;5;21;01mexception_utils\u001b[39;00m \u001b[38;5;28;01mas\u001b[39;00m \u001b[38;5;21;01meu\u001b[39;00m\n\u001b[0;32m----> 3\u001b[0m \u001b[43meu\u001b[49m\u001b[38;5;241;43m.\u001b[39;49m\u001b[43massert_example\u001b[49m\u001b[43m(\u001b[49m\u001b[43m)\u001b[49m\n",
      "File \u001b[0;32m~/Documents/algorithm_tools/Applications/../algorithm_tools/exception_utils.py:63\u001b[0m, in \u001b[0;36massert_example\u001b[0;34m()\u001b[0m\n\u001b[1;32m     61\u001b[0m \u001b[38;5;28;01mdef\u001b[39;00m \u001b[38;5;21massert_example\u001b[39m():\n\u001b[1;32m     62\u001b[0m     x \u001b[38;5;241m=\u001b[39m \u001b[38;5;241m10\u001b[39m\n\u001b[0;32m---> 63\u001b[0m     \u001b[38;5;28;01massert\u001b[39;00m(x \u001b[38;5;241m<\u001b[39m \u001b[38;5;241m5\u001b[39m), \u001b[38;5;124mf\u001b[39m\u001b[38;5;124m\"\u001b[39m\u001b[38;5;124mThe number should not exceed 5. (x = \u001b[39m\u001b[38;5;132;01m{\u001b[39;00mx\u001b[38;5;132;01m}\u001b[39;00m\u001b[38;5;124m)\u001b[39m\u001b[38;5;124m\"\u001b[39m\n",
      "\u001b[0;31mAssertionError\u001b[0m: The number should not exceed 5. (x = 10)"
     ]
    }
   ],
   "source": [
    "import exception_utils as eu\n",
    "\n",
    "eu.assert_example()"
   ]
  },
  {
   "cell_type": "code",
   "execution_count": 9,
   "metadata": {},
   "outputs": [
    {
     "name": "stdout",
     "output_type": "stream",
     "text": [
      "division by zero\n"
     ]
    }
   ],
   "source": [
    "def my_func():\n",
    "    x = 10\n",
    "    0/0\n",
    "    assert(x == 5), \"x was not 5\"\n",
    "    return 0/0\n",
    "\n",
    "try:\n",
    "    my_func()\n",
    "except AssertionError as e:\n",
    "    print(e)\n",
    "except ZeroDivisionError as e:\n",
    "    print(e)"
   ]
  },
  {
   "cell_type": "markdown",
   "metadata": {},
   "source": [
    "## dict"
   ]
  },
  {
   "cell_type": "code",
   "execution_count": 62,
   "metadata": {},
   "outputs": [],
   "source": [
    "class MyClass():\n",
    "    def __init__(self,value):\n",
    "        self.value = value\n",
    "\n",
    "mydict = {\n",
    "            'hi':MyClass(5),\n",
    "            \"hello\":MyClass(10)\n",
    "        }\n"
   ]
  },
  {
   "cell_type": "code",
   "execution_count": 64,
   "metadata": {},
   "outputs": [
    {
     "data": {
      "text/plain": [
       "False"
      ]
     },
     "execution_count": 64,
     "metadata": {},
     "output_type": "execute_result"
    }
   ],
   "source": [
    "mydict.copy() is mydict"
   ]
  },
  {
   "cell_type": "code",
   "execution_count": 44,
   "metadata": {},
   "outputs": [
    {
     "data": {
      "text/plain": [
       "[<__main__.MyClass at 0x107641940>, <__main__.MyClass at 0x1076960d0>]"
      ]
     },
     "execution_count": 44,
     "metadata": {},
     "output_type": "execute_result"
    }
   ],
   "source": [
    "list(mydict.values())"
   ]
  },
  {
   "cell_type": "code",
   "execution_count": 48,
   "metadata": {},
   "outputs": [
    {
     "data": {
      "text/plain": [
       "('hello', <__main__.MyClass at 0x1076960d0>)"
      ]
     },
     "execution_count": 48,
     "metadata": {},
     "output_type": "execute_result"
    }
   ],
   "source": [
    "mydict.popitem()"
   ]
  },
  {
   "cell_type": "code",
   "execution_count": 54,
   "metadata": {},
   "outputs": [
    {
     "data": {
      "text/plain": [
       "0"
      ]
     },
     "execution_count": 54,
     "metadata": {},
     "output_type": "execute_result"
    }
   ],
   "source": [
    "from collections import defaultdict\n",
    "d = defaultdict(int)\n",
    "d[5]"
   ]
  },
  {
   "cell_type": "code",
   "execution_count": 58,
   "metadata": {},
   "outputs": [
    {
     "data": {
      "text/plain": [
       "{'Sales': ['John Doe', 'Martin Smith'],\n",
       " 'Accounting': ['Jane Doe'],\n",
       " 'Marketing': ['Elizabeth Smith', 'Adam Doe']}"
      ]
     },
     "execution_count": 58,
     "metadata": {},
     "output_type": "execute_result"
    }
   ],
   "source": [
    "import dict_utils as du\n",
    "dict(du.using_default_dict_to_group())"
   ]
  },
  {
   "cell_type": "code",
   "execution_count": 60,
   "metadata": {},
   "outputs": [
    {
     "data": {
      "text/plain": [
       "{'Sales': {'John Doe', 'Martin Smith'},\n",
       " 'Accounting': {'Jane Doe'},\n",
       " 'Marketing': {'Adam Doe', 'Elizabeth Smith'}}"
      ]
     },
     "execution_count": 60,
     "metadata": {},
     "output_type": "execute_result"
    }
   ],
   "source": [
    "dict(du.using_default_dict_to_group_in_set())"
   ]
  },
  {
   "cell_type": "code",
   "execution_count": 61,
   "metadata": {},
   "outputs": [
    {
     "data": {
      "text/plain": [
       "Counter({'i': 4, 's': 4, 'p': 2, 'm': 1})"
      ]
     },
     "execution_count": 61,
     "metadata": {},
     "output_type": "execute_result"
    }
   ],
   "source": [
    "du.using_counter_to_count_items()"
   ]
  },
  {
   "cell_type": "markdown",
   "metadata": {},
   "source": [
    "# Deque"
   ]
  },
  {
   "cell_type": "code",
   "execution_count": 71,
   "metadata": {},
   "outputs": [],
   "source": [
    "from collections import deque\n",
    "\n",
    "q = deque(['name','age','DOB'])\n",
    "q.copy()\n",
    "q.appendleft('hello')"
   ]
  },
  {
   "cell_type": "code",
   "execution_count": 81,
   "metadata": {},
   "outputs": [
    {
     "data": {
      "text/plain": [
       "{1, 2, 3, 4, 5, 6, 7, 8, 9, 11}"
      ]
     },
     "execution_count": 81,
     "metadata": {},
     "output_type": "execute_result"
    }
   ],
   "source": [
    "s = {1,2,3,4}\n",
    "b = {2,3,4}\n",
    "c = {5,6,7,8,9}\n",
    "d = [1,2,3,4,11]\n",
    "s.union(b,s,s,c,d)"
   ]
  },
  {
   "cell_type": "code",
   "execution_count": 86,
   "metadata": {},
   "outputs": [
    {
     "data": {
      "text/plain": [
       "[4, 5, 10, 6]"
      ]
     },
     "execution_count": 86,
     "metadata": {},
     "output_type": "execute_result"
    }
   ],
   "source": [
    "import heapq\n",
    "\n",
    "nums = [10,5,4,6]\n",
    "\n",
    "heapq.heapify(nums)\n",
    "nums"
   ]
  },
  {
   "cell_type": "code",
   "execution_count": 87,
   "metadata": {},
   "outputs": [
    {
     "data": {
      "text/plain": [
       "list"
      ]
     },
     "execution_count": 87,
     "metadata": {},
     "output_type": "execute_result"
    }
   ],
   "source": [
    "type(nums)"
   ]
  },
  {
   "cell_type": "markdown",
   "metadata": {},
   "source": [
    "# Bisect"
   ]
  },
  {
   "cell_type": "code",
   "execution_count": 88,
   "metadata": {},
   "outputs": [],
   "source": [
    "import bisect"
   ]
  },
  {
   "cell_type": "code",
   "execution_count": 91,
   "metadata": {},
   "outputs": [
    {
     "data": {
      "text/plain": [
       "3"
      ]
     },
     "execution_count": 91,
     "metadata": {},
     "output_type": "execute_result"
    }
   ],
   "source": [
    "import bisect_utils as bisu\n",
    "bisu.example_bisect_left()"
   ]
  },
  {
   "cell_type": "code",
   "execution_count": 96,
   "metadata": {},
   "outputs": [
    {
     "data": {
      "text/plain": [
       "2"
      ]
     },
     "execution_count": 96,
     "metadata": {},
     "output_type": "execute_result"
    }
   ],
   "source": [
    "import bisect\n",
    "\n",
    "a = [2,4,6,8,10,12,14]\n",
    "bisect.bisect_left(a,7,lo=1,hi=2)"
   ]
  },
  {
   "cell_type": "code",
   "execution_count": 97,
   "metadata": {},
   "outputs": [],
   "source": [
    "bisect.insort_left(a,10)"
   ]
  },
  {
   "cell_type": "code",
   "execution_count": 98,
   "metadata": {},
   "outputs": [
    {
     "data": {
      "text/plain": [
       "[2, 4, 6, 8, 10, 10, 12, 14]"
      ]
     },
     "execution_count": 98,
     "metadata": {},
     "output_type": "execute_result"
    }
   ],
   "source": [
    "a"
   ]
  },
  {
   "cell_type": "code",
   "execution_count": 100,
   "metadata": {},
   "outputs": [
    {
     "data": {
      "text/plain": [
       "False"
      ]
     },
     "execution_count": 100,
     "metadata": {},
     "output_type": "execute_result"
    }
   ],
   "source": [
    "all([True,False])"
   ]
  },
  {
   "cell_type": "code",
   "execution_count": 105,
   "metadata": {},
   "outputs": [
    {
     "data": {
      "text/plain": [
       "2"
      ]
     },
     "execution_count": 105,
     "metadata": {},
     "output_type": "execute_result"
    }
   ],
   "source": [
    "def add_one(x):\n",
    "    return x + 1\n",
    "\n",
    "next(map(add_one,[1,2,3,4]))"
   ]
  },
  {
   "cell_type": "code",
   "execution_count": 112,
   "metadata": {},
   "outputs": [],
   "source": [
    "if tuple():\n",
    "    print('hi')"
   ]
  },
  {
   "cell_type": "code",
   "execution_count": 113,
   "metadata": {},
   "outputs": [
    {
     "ename": "SyntaxError",
     "evalue": "invalid syntax (3994584492.py, line 1)",
     "output_type": "error",
     "traceback": [
      "\u001b[0;36m  Cell \u001b[0;32mIn[113], line 1\u001b[0;36m\u001b[0m\n\u001b[0;31m    (,)\u001b[0m\n\u001b[0m     ^\u001b[0m\n\u001b[0;31mSyntaxError\u001b[0m\u001b[0;31m:\u001b[0m invalid syntax\n"
     ]
    }
   ],
   "source": []
  },
  {
   "cell_type": "markdown",
   "metadata": {},
   "source": [
    "## primitive sizes"
   ]
  },
  {
   "cell_type": "code",
   "execution_count": 117,
   "metadata": {},
   "outputs": [
    {
     "data": {
      "text/plain": [
       "1444444444444444444444444444444444"
      ]
     },
     "execution_count": 117,
     "metadata": {},
     "output_type": "execute_result"
    }
   ],
   "source": [
    "x = 1444444444444444444444444444444444\n",
    "x"
   ]
  },
  {
   "cell_type": "code",
   "execution_count": 118,
   "metadata": {},
   "outputs": [
    {
     "data": {
      "text/plain": [
       "1444444444444444444444444444444446"
      ]
     },
     "execution_count": 118,
     "metadata": {},
     "output_type": "execute_result"
    }
   ],
   "source": []
  },
  {
   "cell_type": "code",
   "execution_count": null,
   "metadata": {},
   "outputs": [],
   "source": []
  }
 ],
 "metadata": {
  "kernelspec": {
   "display_name": "Python 3",
   "language": "python",
   "name": "python3"
  },
  "language_info": {
   "codemirror_mode": {
    "name": "ipython",
    "version": 3
   },
   "file_extension": ".py",
   "mimetype": "text/x-python",
   "name": "python",
   "nbconvert_exporter": "python",
   "pygments_lexer": "ipython3",
   "version": "3.9.6"
  }
 },
 "nbformat": 4,
 "nbformat_minor": 2
}
