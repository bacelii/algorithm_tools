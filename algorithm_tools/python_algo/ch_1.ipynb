{
 "cells": [
  {
   "cell_type": "code",
   "execution_count": 1,
   "metadata": {},
   "outputs": [
    {
     "data": {
      "text/plain": [
       "'\\n\\nSource: https://github.com/Apress/python-algorithms/blob/master/Hetland-Source%20Code/ch_01.py\\n\\n'"
      ]
     },
     "execution_count": 1,
     "metadata": {},
     "output_type": "execute_result"
    }
   ],
   "source": [
    "\"\"\"\n",
    "\n",
    "Source: https://github.com/Apress/python-algorithms/blob/master/Hetland-Source%20Code/ch_01.py\n",
    "\n",
    "\"\"\""
   ]
  },
  {
   "cell_type": "markdown",
   "metadata": {},
   "source": [
    "# Chapter 2: The Basics"
   ]
  },
  {
   "cell_type": "code",
   "execution_count": 2,
   "metadata": {},
   "outputs": [
    {
     "data": {
      "text/plain": [
       "'\\nTuring machine: can do the following over strip of paper\\n- write to\\n- read from\\n- move along \\n\\nAlgorithm: finite list of instruction that solves a problem\\n\\nproblem: relation between inputs and outputs\\n'"
      ]
     },
     "execution_count": 2,
     "metadata": {},
     "output_type": "execute_result"
    }
   ],
   "source": [
    "\"\"\"\n",
    "Turing machine: can do the following over strip of paper\n",
    "- write to\n",
    "- read from\n",
    "- move along \n",
    "\n",
    "Algorithm: finite list of instruction that solves a problem\n",
    "\n",
    "problem: relation between inputs and outputs\n",
    "\"\"\""
   ]
  },
  {
   "cell_type": "code",
   "execution_count": 3,
   "metadata": {},
   "outputs": [
    {
     "data": {
      "text/plain": [
       "'d'"
      ]
     },
     "execution_count": 3,
     "metadata": {},
     "output_type": "execute_result"
    }
   ],
   "source": [
    "# creating a linked list\n",
    "\n",
    "class Node:\n",
    "    def __init__(self,value,next=None):\n",
    "        self.value = value\n",
    "        self.next = next\n",
    "        \n",
    "ll = Node('a',Node('b',Node('c',Node('d'))))\n",
    "ll.next.next.next.value"
   ]
  },
  {
   "cell_type": "code",
   "execution_count": 4,
   "metadata": {},
   "outputs": [
    {
     "data": {
      "text/plain": [
       "[4, 5, 7, 10]"
      ]
     },
     "execution_count": 4,
     "metadata": {},
     "output_type": "execute_result"
    }
   ],
   "source": [
    "x = [5,4,7,10]\n",
    "x.sort()\n",
    "x"
   ]
  },
  {
   "cell_type": "code",
   "execution_count": 5,
   "metadata": {},
   "outputs": [
    {
     "data": {
      "text/plain": [
       "[(1, 2),\n",
       " (1, 3),\n",
       " (1, 4),\n",
       " (2, 1),\n",
       " (2, 3),\n",
       " (2, 4),\n",
       " (3, 1),\n",
       " (3, 2),\n",
       " (3, 4),\n",
       " (4, 1),\n",
       " (4, 2),\n",
       " (4, 3)]"
      ]
     },
     "execution_count": 5,
     "metadata": {},
     "output_type": "execute_result"
    }
   ],
   "source": [
    "import itertools\n",
    "\n",
    "list(itertools.permutations([1,2,3,4],2))\n"
   ]
  },
  {
   "cell_type": "code",
   "execution_count": 6,
   "metadata": {},
   "outputs": [
    {
     "data": {
      "text/plain": [
       "['__doc__',\n",
       " '__file__',\n",
       " '__loader__',\n",
       " '__name__',\n",
       " '__package__',\n",
       " '__spec__',\n",
       " 'acos',\n",
       " 'acosh',\n",
       " 'asin',\n",
       " 'asinh',\n",
       " 'atan',\n",
       " 'atan2',\n",
       " 'atanh',\n",
       " 'ceil',\n",
       " 'comb',\n",
       " 'copysign',\n",
       " 'cos',\n",
       " 'cosh',\n",
       " 'degrees',\n",
       " 'dist',\n",
       " 'e',\n",
       " 'erf',\n",
       " 'erfc',\n",
       " 'exp',\n",
       " 'expm1',\n",
       " 'fabs',\n",
       " 'factorial',\n",
       " 'floor',\n",
       " 'fmod',\n",
       " 'frexp',\n",
       " 'fsum',\n",
       " 'gamma',\n",
       " 'gcd',\n",
       " 'hypot',\n",
       " 'inf',\n",
       " 'isclose',\n",
       " 'isfinite',\n",
       " 'isinf',\n",
       " 'isnan',\n",
       " 'isqrt',\n",
       " 'lcm',\n",
       " 'ldexp',\n",
       " 'lgamma',\n",
       " 'log',\n",
       " 'log10',\n",
       " 'log1p',\n",
       " 'log2',\n",
       " 'modf',\n",
       " 'nan',\n",
       " 'nextafter',\n",
       " 'perm',\n",
       " 'pi',\n",
       " 'pow',\n",
       " 'prod',\n",
       " 'radians',\n",
       " 'remainder',\n",
       " 'sin',\n",
       " 'sinh',\n",
       " 'sqrt',\n",
       " 'tan',\n",
       " 'tanh',\n",
       " 'tau',\n",
       " 'trunc',\n",
       " 'ulp']"
      ]
     },
     "execution_count": 6,
     "metadata": {},
     "output_type": "execute_result"
    }
   ],
   "source": [
    "import math\n",
    "math.log(10,10)\n",
    "dir(math)"
   ]
  },
  {
   "cell_type": "code",
   "execution_count": 7,
   "metadata": {},
   "outputs": [
    {
     "data": {
      "text/plain": [
       "6.643856189774724"
      ]
     },
     "execution_count": 7,
     "metadata": {},
     "output_type": "execute_result"
    }
   ],
   "source": [
    "math.log2(100)"
   ]
  },
  {
   "cell_type": "code",
   "execution_count": null,
   "metadata": {},
   "outputs": [
    {
     "data": {
      "text/plain": [
       "10"
      ]
     },
     "execution_count": 24,
     "metadata": {},
     "output_type": "execute_result"
    }
   ],
   "source": [
    "x = (i for i in range(10,20))\n",
    "next(x)"
   ]
  },
  {
   "cell_type": "markdown",
   "metadata": {},
   "source": [
    "# Ch. 3 Counting 101"
   ]
  },
  {
   "cell_type": "code",
   "execution_count": null,
   "metadata": {},
   "outputs": [
    {
     "data": {
      "text/plain": [
       "True"
      ]
     },
     "execution_count": 38,
     "metadata": {},
     "output_type": "execute_result"
    }
   ],
   "source": [
    "def is_prime(n):\n",
    "    for i in range(2,n):\n",
    "        if n % i == 0:\n",
    "            return False\n",
    "    return True\n",
    "\n",
    "is_prime(11)"
   ]
  },
  {
   "cell_type": "markdown",
   "metadata": {},
   "source": [
    "### basic recursion"
   ]
  },
  {
   "cell_type": "code",
   "execution_count": null,
   "metadata": {},
   "outputs": [
    {
     "data": {
      "text/plain": [
       "71"
      ]
     },
     "execution_count": 40,
     "metadata": {},
     "output_type": "execute_result"
    }
   ],
   "source": [
    "def sum_rec(arr):\n",
    "    if len(arr) == 0:\n",
    "        return 0\n",
    "    return sum_rec(arr[:-1]) + arr[-1]\n",
    "\n",
    "sum_rec([1,2,3,4,5,56])"
   ]
  },
  {
   "cell_type": "markdown",
   "metadata": {},
   "source": [
    "# Ch. 4: Recursion, Induction and Reduction"
   ]
  },
  {
   "cell_type": "markdown",
   "metadata": {},
   "source": [
    "### Problem 1: list of numbers and want to find nonidentical numbers that are closest to each other (smallest absolute diff)"
   ]
  },
  {
   "cell_type": "code",
   "execution_count": null,
   "metadata": {},
   "outputs": [
    {
     "name": "stdout",
     "output_type": "stream",
     "text": [
      "changing to -2,1 (max_dist = 3)\n",
      "changing to 1,3 (max_dist = 2)\n",
      "changing to 9,10 (max_dist = 1)\n"
     ]
    },
    {
     "data": {
      "text/plain": [
       "{'max_dist': 1, 'a1': 9, 'a2': 10}"
      ]
     },
     "execution_count": 53,
     "metadata": {},
     "output_type": "execute_result"
    }
   ],
   "source": [
    "import math\n",
    "arr = [1,40,5,10,3,-2,5,9]\n",
    "\n",
    "inf = float('inf')\n",
    "\n",
    "def brute_force(arr):\n",
    "    max_dist = inf\n",
    "    n1 = n2 = None\n",
    "    for i1,a1 in enumerate(arr):\n",
    "        for i2,a2 in enumerate(arr):\n",
    "            \n",
    "            if i2 <= i1 or a1 == a2:\n",
    "                continue\n",
    "            \n",
    "            dist = abs(a1 - a2)\n",
    "            if dist < max_dist:\n",
    "                max_dist = dist\n",
    "                n1,n2 = a1,a2\n",
    "    \n",
    "    return max_dist,n1,n2\n",
    "\n",
    "brute_force(arr)\n",
    "\n",
    "def closest_pair_sorted(arr:list)->dict:\n",
    "    \"\"\"\n",
    "    Purpose\n",
    "    -------\n",
    "\n",
    "    Parameters\n",
    "    ----------\n",
    "    arr : _type_\n",
    "        _description_\n",
    "\n",
    "    Returns\n",
    "    -------\n",
    "    _type_\n",
    "        _description_\n",
    "    \"\"\"\n",
    "    arr = arr.copy()\n",
    "    arr.sort()\n",
    "    \n",
    "    max_dist = inf\n",
    "    a1 = a2 = None\n",
    "    for i in range(len(arr)-1):\n",
    "        n1 = arr[i]\n",
    "        n2 = arr[i+1]\n",
    "        if n1 == n2:\n",
    "            continue\n",
    "        \n",
    "        dist = abs(n1 - n2)\n",
    "        if dist < max_dist:\n",
    "            max_dist = dist\n",
    "            a1,a2 = n1,n2\n",
    "            print(f\"changing to {n1},{n2} (max_dist = {max_dist})\")\n",
    "            \n",
    "    return dict(\n",
    "        max_dist = max_dist,\n",
    "        a1 = a1,\n",
    "        a2 = a2\n",
    "    )\n",
    "    \n",
    "closest_pair_sorted(arr)"
   ]
  },
  {
   "cell_type": "markdown",
   "metadata": {},
   "source": [
    "### insertion sort"
   ]
  },
  {
   "cell_type": "code",
   "execution_count": null,
   "metadata": {},
   "outputs": [
    {
     "data": {
      "text/plain": [
       "[-3, 2, 40, 50]"
      ]
     },
     "execution_count": 62,
     "metadata": {},
     "output_type": "execute_result"
    }
   ],
   "source": [
    "\"\"\"\n",
    "Purpose\n",
    "-------\n",
    "Problem is much easier if already assume the a list is sorted\n",
    "\n",
    "down work: reduce size of list\n",
    "base case: list of size one\n",
    "up work: insert next object into sorted list\n",
    "\n",
    "\"\"\"\n",
    "\n",
    "def ins_sort_rec(arr,i=None):\n",
    "    if i is None:\n",
    "        i = len(arr)\n",
    "    if i==1:\n",
    "        return \n",
    "    ins_sort_rec(arr,i-1)\n",
    "    j = i\n",
    "    while j > 0 and arr[j-2] > arr[j-1]:\n",
    "        arr[j-2] ,arr[j-1] = arr[j-1],arr[j-2]\n",
    "        j -= 1 \n",
    "    return \n",
    "\n",
    "arr = [-3,40,50,2]\n",
    "sel_sort_rec(arr)\n",
    "arr"
   ]
  },
  {
   "cell_type": "code",
   "execution_count": null,
   "metadata": {},
   "outputs": [
    {
     "name": "stdout",
     "output_type": "stream",
     "text": [
      "[-4, -100, 5, 4, 200]\n",
      "[-4, -100, 4, 5, 200]\n",
      "[-4, -100, 4, 5, 200]\n",
      "[-100, -4, 4, 5, 200]\n"
     ]
    },
    {
     "data": {
      "text/plain": [
       "[-100, -4, 4, 5, 200]"
      ]
     },
     "execution_count": 67,
     "metadata": {},
     "output_type": "execute_result"
    }
   ],
   "source": [
    "def sel_sort_rec(arr,i=None):\n",
    "    if i is None:\n",
    "        i = len(arr)\n",
    "        \n",
    "    if i==1:\n",
    "        return\n",
    "\n",
    "    for j in range(i-1):\n",
    "        if arr[j] > arr[i-1]:\n",
    "            arr[i-1],arr[j] = arr[j],arr[i-1]\n",
    "    print(arr)\n",
    "    return sel_sort_rec(arr,i=i-1)\n",
    "\n",
    "arr = [-4,-100,200,4,5]\n",
    "sel_sort_rec(arr)\n",
    "arr"
   ]
  },
  {
   "cell_type": "code",
   "execution_count": null,
   "metadata": {},
   "outputs": [
    {
     "data": {
      "text/plain": [
       "[0, 2, 5]"
      ]
     },
     "execution_count": 68,
     "metadata": {},
     "output_type": "execute_result"
    }
   ],
   "source": [
    "\n",
    "def max_perm(M)->list:\n",
    "    \"\"\"\n",
    "    Purpose\n",
    "    -------\n",
    "    Find the maximum number of nodes that could fully swap partners\n",
    "    \n",
    "    Final state\n",
    "    -----------\n",
    "    No nodes fill not be pointed to\n",
    "    \n",
    "    Pseudocode\n",
    "    ----------\n",
    "    iteratively remove nodes that are not pointed to\n",
    "    \n",
    "    \"\"\"\n",
    "    M = M.copy()\n",
    "    D = [0]*len(M)\n",
    "    for k in M:\n",
    "        D[k] += 1\n",
    "        \n",
    "    Q = [i for i,k in enumerate(D) if k <= 0]\n",
    "    \n",
    "    \"\"\"\n",
    "    1) pop a node from the queue\n",
    "    2) decrement the node it points to\n",
    "    3) if the node decrement falls to 0, then add to queue\n",
    "    \"\"\"\n",
    "    while Q:\n",
    "        u = Q.pop()\n",
    "        v = M[u]\n",
    "        D[v] -= 1\n",
    "        if D[v] == 0:\n",
    "            Q.append(v)\n",
    "        \n",
    "    return [i for i,k in enumerate(D) if k > 0]\n",
    "    \n",
    "M = [2,2,0,5,3,5,7,4]\n",
    "max_perm(M)"
   ]
  },
  {
   "cell_type": "markdown",
   "metadata": {},
   "source": [
    "### counting sort"
   ]
  },
  {
   "cell_type": "code",
   "execution_count": null,
   "metadata": {},
   "outputs": [
    {
     "data": {
      "text/plain": [
       "4"
      ]
     },
     "execution_count": 72,
     "metadata": {},
     "output_type": "execute_result"
    }
   ],
   "source": [
    "max([1,2,3,4])"
   ]
  },
  {
   "cell_type": "code",
   "execution_count": null,
   "metadata": {},
   "outputs": [
    {
     "data": {
      "text/plain": [
       "[-100, -1, 4, 4, 5, 6, 45, 60, 233]"
      ]
     },
     "execution_count": 78,
     "metadata": {},
     "output_type": "execute_result"
    }
   ],
   "source": [
    "from collections import defaultdict\n",
    "import itertools\n",
    "\n",
    "def count_sort(arr):\n",
    "    d = defaultdict(int)\n",
    "    for a in arr:\n",
    "        d[a] += 1\n",
    "        \n",
    "    elements = list(d.keys())\n",
    "    min_val,max_val = min(elements),max(elements)\n",
    "    \n",
    "    return list(itertools.chain.from_iterable(\n",
    "        [[k]*d[k] for k in range(min_val,max_val+1)]\n",
    "    ))\n",
    "    \n",
    "arr = [4,5,6,-100,4,233,45,60,-1]\n",
    "\n",
    "count_sort(arr)"
   ]
  },
  {
   "cell_type": "markdown",
   "metadata": {},
   "source": [
    "### celebrity problem"
   ]
  },
  {
   "cell_type": "code",
   "execution_count": null,
   "metadata": {},
   "outputs": [],
   "source": [
    "\"\"\"\n",
    "Purpose: identify a celebrity in a graph\n",
    "\n",
    "\n",
    "\"\"\""
   ]
  },
  {
   "cell_type": "code",
   "execution_count": null,
   "metadata": {},
   "outputs": [],
   "source": [
    "from functools import wraps\n",
    "def memo(func):\n",
    "  mydict = dict()\n",
    "  @wraps(func)\n",
    "  def new_func(*args):\n",
    "    if args not in mydict:\n",
    "      mydict[args] = func(*args)\n",
    "      print(f\"Not cached\")\n",
    "    return mydict[args]\n",
    "  return new_func"
   ]
  },
  {
   "cell_type": "code",
   "execution_count": null,
   "metadata": {},
   "outputs": [
    {
     "name": "stdout",
     "output_type": "stream",
     "text": [
      "Not cached\n"
     ]
    },
    {
     "data": {
      "text/plain": [
       "('a', 'b', 'c', 'yes', 'n0')"
      ]
     },
     "execution_count": 87,
     "metadata": {},
     "output_type": "execute_result"
    }
   ],
   "source": [
    "@memo\n",
    "def myfunc(a,b):\n",
    "    return a + (b)\n",
    "\n",
    "\n",
    "a = tuple([\"a\",\"b\",\"c\"])\n",
    "b = tuple(['yes','n0'])\n",
    "myfunc(a,b)\n",
    "myfunc(a,b)\n",
    "myfunc(a,b)"
   ]
  },
  {
   "cell_type": "code",
   "execution_count": null,
   "metadata": {},
   "outputs": [
    {
     "data": {
      "text/plain": [
       "{<__main__.MyObj at 0x104cae220>: 5}"
      ]
     },
     "execution_count": 96,
     "metadata": {},
     "output_type": "execute_result"
    }
   ],
   "source": [
    "from collections import deque\n",
    "\n",
    "class MyObj:\n",
    "    pass\n",
    "{MyObj():5}"
   ]
  },
  {
   "cell_type": "markdown",
   "metadata": {},
   "source": [
    "# Ch. 5: Traversal: the skeleton key of algorithmics"
   ]
  },
  {
   "cell_type": "code",
   "execution_count": null,
   "metadata": {},
   "outputs": [
    {
     "data": {
      "text/plain": [
       "[[1, 2, 3, 4, 5], [2, 4], [5], [4], [5], [2, 6, 7], [5, 7], [5, 6], [8]]"
      ]
     },
     "execution_count": 133,
     "metadata": {},
     "output_type": "execute_result"
    }
   ],
   "source": [
    "def some_graph():\n",
    "    a, b, c, d, e, f, g, h, i = range(9)\n",
    "    N = [\n",
    "        [b, c, d, e, f],    # a\n",
    "        [c, e],             # b\n",
    "        [f],                # c\n",
    "        [e],                # d\n",
    "        [f],                # e\n",
    "        [c, g, h],          # f\n",
    "        [f, h],             # g\n",
    "        [f, g],             # h\n",
    "        [i],\n",
    "    ]\n",
    "    return N\n",
    "\n",
    "G = some_graph()\n",
    "G"
   ]
  },
  {
   "cell_type": "code",
   "execution_count": null,
   "metadata": {},
   "outputs": [],
   "source": [
    "def walk(G,s,S = set()) -> dict:\n",
    "    \"\"\"\n",
    "    Purpose: Create a spanning tree of any graph\n",
    "\n",
    "    Parameters\n",
    "    ----------\n",
    "    G : _type_\n",
    "        _description_\n",
    "    s : _type_\n",
    "        _description_\n",
    "    S : _type_, optional\n",
    "        _description_, by default set()\n",
    "        \n",
    "    Returns\n",
    "    -------\n",
    "    dict:\n",
    "        predecessor dict\n",
    "    \"\"\"\n",
    "    P, Q = dict(),set()\n",
    "    Q.add(s)\n",
    "    P[s] = None\n",
    "    \n",
    "    while Q:\n",
    "        u = Q.pop()\n",
    "        for v in G[u]:\n",
    "            if v in P: continue\n",
    "            Q.add(v)\n",
    "            P[v] = u\n",
    "            \n",
    "    return P\n",
    "\n",
    "P = walk(G,s = 2)"
   ]
  },
  {
   "cell_type": "code",
   "execution_count": null,
   "metadata": {},
   "outputs": [
    {
     "data": {
      "text/plain": [
       "[2, 3, 4, 5, 7]"
      ]
     },
     "execution_count": 115,
     "metadata": {},
     "output_type": "execute_result"
    }
   ],
   "source": [
    "u = 7\n",
    "path = []\n",
    "while u != None:\n",
    "    path.append(u)\n",
    "    u = P[u]\n",
    "    \n",
    "path.reverse()\n",
    "path"
   ]
  },
  {
   "cell_type": "code",
   "execution_count": null,
   "metadata": {},
   "outputs": [
    {
     "data": {
      "text/plain": [
       "[{0: None, 1: 0, 2: 0, 3: 0, 4: 0, 5: 0, 6: 5, 7: 5}, {8: None}]"
      ]
     },
     "execution_count": 116,
     "metadata": {},
     "output_type": "execute_result"
    }
   ],
   "source": [
    "def conn_comp(G,S=set()):\n",
    "    seen = set()\n",
    "    cc = []\n",
    "    for i,u in enumerate(G):\n",
    "        if i in seen:\n",
    "            continue\n",
    "        P = walk(G,i,S=S)\n",
    "        seen.update(P)\n",
    "        cc.append(P)\n",
    "        \n",
    "    return cc\n",
    "\n",
    "conn_comp(G)"
   ]
  },
  {
   "cell_type": "code",
   "execution_count": null,
   "metadata": {},
   "outputs": [],
   "source": [
    "def tree_walk(G,u):\n",
    "    for v in G[u]:\n",
    "        tree_walk(G,v)"
   ]
  },
  {
   "cell_type": "code",
   "execution_count": null,
   "metadata": {},
   "outputs": [
    {
     "data": {
      "text/plain": [
       "{0: None, 1: 0, 2: 0, 3: 0, 4: 0, 5: 0, 6: 5, 7: 5}"
      ]
     },
     "execution_count": 141,
     "metadata": {},
     "output_type": "execute_result"
    }
   ],
   "source": [
    "def dfs(G,u,S=set()):\n",
    "    yield u\n",
    "    S.add(u)\n",
    "    for v in G[u]:\n",
    "        if v in S:\n",
    "            continue\n",
    "        for j in dfs(G,v,S):\n",
    "            yield j\n",
    "            \n",
    "#u = 2  S = [1]  output\n",
    "from collections import deque\n",
    "def bfs(G,u):\n",
    "    P = dict()\n",
    "    Q = deque([u])\n",
    "    P[u] = None\n",
    "    while Q:\n",
    "        v = Q.pop()\n",
    "        for j in G[v]:\n",
    "            if j not in P:\n",
    "                Q.appendleft(j)\n",
    "                P[j] = v\n",
    "    return P\n",
    "\n",
    "\n",
    "list(dfs(G,0,))\n",
    "bfs(G,0)\n"
   ]
  },
  {
   "cell_type": "code",
   "execution_count": null,
   "metadata": {},
   "outputs": [
    {
     "data": {
      "text/plain": [
       "[8, 0, 3, 1, 4, 2, 5, 6, 7]"
      ]
     },
     "execution_count": 147,
     "metadata": {},
     "output_type": "execute_result"
    }
   ],
   "source": [
    "def dfs_topsort(G):\n",
    "    S, res = set(),[]\n",
    "    def recurse(u):\n",
    "        if u in S: return\n",
    "        S.add(u)\n",
    "        for v in G[u]:\n",
    "            recurse(v)\n",
    "        res.append(u)\n",
    "    for i,u in enumerate(G):\n",
    "        recurse(i)\n",
    "    return res\n",
    "\n",
    "res = dfs_topsort(G)\n",
    "res.reverse()\n",
    "res\n",
    "        "
   ]
  },
  {
   "cell_type": "code",
   "execution_count": null,
   "metadata": {},
   "outputs": [
    {
     "data": {
      "text/plain": [
       "[[1, 2, 3, 4, 5], [2, 4], [5], [4], [5], [2, 6, 7], [5, 7], [5, 6], [8]]"
      ]
     },
     "execution_count": 148,
     "metadata": {},
     "output_type": "execute_result"
    }
   ],
   "source": [
    "G"
   ]
  },
  {
   "cell_type": "markdown",
   "metadata": {},
   "source": [
    "# CH 6: Divide and Conquer"
   ]
  },
  {
   "cell_type": "code",
   "execution_count": null,
   "metadata": {},
   "outputs": [],
   "source": [
    "def bisect_right(arr,k,lo=0,hi=None):\n",
    "    if hi is None:\n",
    "        hi = len(a)\n",
    "        \n",
    "    while lo < hi:\n",
    "        mid = (hi + lo) // 2\n",
    "        if arr[mid] > k:\n",
    "            hi = mid\n",
    "        else:\n",
    "            lo = mid + 1\n",
    "        \n",
    "    return lo"
   ]
  },
  {
   "cell_type": "code",
   "execution_count": null,
   "metadata": {},
   "outputs": [
    {
     "data": {
      "text/plain": [
       "[-3, 1, 2]"
      ]
     },
     "execution_count": 156,
     "metadata": {},
     "output_type": "execute_result"
    }
   ],
   "source": [
    "def partition(seq):\n",
    "    pivot = seq.pop()\n",
    "    lo = [k for k in seq if k<pivot]\n",
    "    hi = [k for k in seq if k>= pivot]\n",
    "    return lo,pivot,hi\n",
    "\n",
    "def quicksort(seq):\n",
    "    if len(seq) <= 1:\n",
    "        return seq\n",
    "    lo,pivot,hi = partition(seq)\n",
    "    return quicksort(lo) + [pivot] + quicksort(hi)\n",
    "\n",
    "quicksort([1,2,-3])"
   ]
  },
  {
   "cell_type": "code",
   "execution_count": null,
   "metadata": {},
   "outputs": [
    {
     "data": {
      "text/plain": [
       "[-3, 4, 5, 11, 5, 6]"
      ]
     },
     "execution_count": 158,
     "metadata": {},
     "output_type": "execute_result"
    }
   ],
   "source": [
    "q = [4,5,6,11,-3,5]\n",
    "\n",
    "from heapq import heapify\n",
    "heapify(q)\n",
    "q"
   ]
  },
  {
   "cell_type": "code",
   "execution_count": null,
   "metadata": {},
   "outputs": [],
   "source": [
    "class Node:\n",
    "    r = None\n",
    "    l = None\n",
    "    def __init__(self,key = None,value=None,):\n",
    "        self.value = value\n",
    "        self.key = key\n",
    "        \n",
    "def insert(node,key,value):\n",
    "    if node is None: return Node(key,value)\n",
    "    if node.key == key:\n",
    "        node.key = value\n",
    "    if node.key <= key:\n",
    "        node.r = insert(node.r,key,value)\n",
    "    else:\n",
    "        node.l = insert(node.l,key,value)\n",
    "    return node\n",
    "    \n",
    "    \n",
    "def search(node,key):\n",
    "    if node is None:\n",
    "        raise KeyError\n",
    "    if node.key == key:\n",
    "        return node.value\n",
    "    if node.key <= key:\n",
    "        return search(node.r,key)\n",
    "    else:\n",
    "        return search(node.l,key)\n",
    "    \n",
    "def Tree:\n",
    "    root = None\n",
    "    def __setitem__(self,k,v):\n",
    "        self.root = insert(self.root,k,v)\n",
    "    def __getitem__(self,key):\n",
    "        return search(self.root,key)\n",
    "    def __contains__(self,key):\n",
    "        valid = True\n",
    "        try:\n",
    "            self[key]\n",
    "        except KeyError as e:\n",
    "            valid = False\n",
    "        return valid\n",
    "        "
   ]
  },
  {
   "cell_type": "markdown",
   "metadata": {},
   "source": [
    "# Ch. 7: Greedy algorithms"
   ]
  },
  {
   "cell_type": "code",
   "execution_count": null,
   "metadata": {},
   "outputs": [],
   "source": [
    "# stable marriage problem"
   ]
  },
  {
   "cell_type": "code",
   "execution_count": null,
   "metadata": {},
   "outputs": [],
   "source": [
    "# huffman algorithm: \n"
   ]
  },
  {
   "cell_type": "markdown",
   "metadata": {},
   "source": [
    "# Ch. 8"
   ]
  },
  {
   "cell_type": "code",
   "execution_count": null,
   "metadata": {},
   "outputs": [],
   "source": [
    "def rec_dag_sp(W,s,t):\n",
    "    @memo\n",
    "    def d(u):\n",
    "        if u == t:\n",
    "            return 0\n",
    "        return min([d(v)+W[u][v] for v in W[u]])\n",
    "    \n",
    "    d(s)"
   ]
  },
  {
   "cell_type": "code",
   "execution_count": 8,
   "metadata": {},
   "outputs": [],
   "source": [
    "from functools import wraps\n",
    "def memo(func):\n",
    "  mydict = dict()\n",
    "  @wraps(func)\n",
    "  def new_func(*args):\n",
    "    if args not in mydict:\n",
    "      mydict[args] = func(*args)\n",
    "      print(f\"Not cached\")\n",
    "    return mydict[args]\n",
    "  return new_func"
   ]
  },
  {
   "cell_type": "code",
   "execution_count": 9,
   "metadata": {},
   "outputs": [
    {
     "ename": "TypeError",
     "evalue": "object of type 'int' has no len()",
     "output_type": "error",
     "traceback": [
      "\u001b[0;31m---------------------------------------------------------------------------\u001b[0m",
      "\u001b[0;31mTypeError\u001b[0m                                 Traceback (most recent call last)",
      "Cell \u001b[0;32mIn[9], line 16\u001b[0m\n\u001b[1;32m     13\u001b[0m         \u001b[38;5;28;01mreturn\u001b[39;00m res\n\u001b[1;32m     14\u001b[0m     \u001b[38;5;28;01mreturn\u001b[39;00m rec_func(\u001b[38;5;28mlen\u001b[39m(s))\n\u001b[0;32m---> 16\u001b[0m \u001b[43mrec_lis\u001b[49m\u001b[43m(\u001b[49m\u001b[43m[\u001b[49m\u001b[38;5;241;43m0\u001b[39;49m\u001b[43m,\u001b[49m\u001b[38;5;241;43m3\u001b[39;49m\u001b[43m,\u001b[49m\u001b[38;5;241;43m5\u001b[39;49m\u001b[43m,\u001b[49m\u001b[38;5;241;43m2\u001b[39;49m\u001b[43m,\u001b[49m\u001b[38;5;241;43m3\u001b[39;49m\u001b[43m,\u001b[49m\u001b[38;5;241;43m4\u001b[39;49m\u001b[43m,\u001b[49m\u001b[38;5;241;43m5\u001b[39;49m\u001b[43m,\u001b[49m\u001b[38;5;241;43m6\u001b[39;49m\u001b[43m,\u001b[49m\u001b[38;5;241;43m7\u001b[39;49m\u001b[43m,\u001b[49m\u001b[38;5;241;43m2\u001b[39;49m\u001b[43m,\u001b[49m\u001b[38;5;241;43m3\u001b[39;49m\u001b[43m]\u001b[49m\u001b[43m)\u001b[49m\n",
      "Cell \u001b[0;32mIn[9], line 14\u001b[0m, in \u001b[0;36mrec_lis\u001b[0;34m(s)\u001b[0m\n\u001b[1;32m     12\u001b[0m             res \u001b[38;5;241m=\u001b[39m \u001b[38;5;28mmax\u001b[39m(res,rec_lis(j))\n\u001b[1;32m     13\u001b[0m     \u001b[38;5;28;01mreturn\u001b[39;00m res\n\u001b[0;32m---> 14\u001b[0m \u001b[38;5;28;01mreturn\u001b[39;00m \u001b[43mrec_func\u001b[49m\u001b[43m(\u001b[49m\u001b[38;5;28;43mlen\u001b[39;49m\u001b[43m(\u001b[49m\u001b[43ms\u001b[49m\u001b[43m)\u001b[49m\u001b[43m)\u001b[49m\n",
      "Cell \u001b[0;32mIn[8], line 7\u001b[0m, in \u001b[0;36mmemo.<locals>.new_func\u001b[0;34m(*args)\u001b[0m\n\u001b[1;32m      4\u001b[0m \u001b[38;5;129m@wraps\u001b[39m(func)\n\u001b[1;32m      5\u001b[0m \u001b[38;5;28;01mdef\u001b[39;00m \u001b[38;5;21mnew_func\u001b[39m(\u001b[38;5;241m*\u001b[39margs):\n\u001b[1;32m      6\u001b[0m   \u001b[38;5;28;01mif\u001b[39;00m args \u001b[38;5;129;01mnot\u001b[39;00m \u001b[38;5;129;01min\u001b[39;00m mydict:\n\u001b[0;32m----> 7\u001b[0m     mydict[args] \u001b[38;5;241m=\u001b[39m \u001b[43mfunc\u001b[49m\u001b[43m(\u001b[49m\u001b[38;5;241;43m*\u001b[39;49m\u001b[43margs\u001b[49m\u001b[43m)\u001b[49m\n\u001b[1;32m      8\u001b[0m     \u001b[38;5;28mprint\u001b[39m(\u001b[38;5;124mf\u001b[39m\u001b[38;5;124m\"\u001b[39m\u001b[38;5;124mNot cached\u001b[39m\u001b[38;5;124m\"\u001b[39m)\n\u001b[1;32m      9\u001b[0m   \u001b[38;5;28;01mreturn\u001b[39;00m mydict[args]\n",
      "Cell \u001b[0;32mIn[9], line 12\u001b[0m, in \u001b[0;36mrec_lis.<locals>.rec_func\u001b[0;34m(i)\u001b[0m\n\u001b[1;32m     10\u001b[0m \u001b[38;5;28;01mfor\u001b[39;00m j \u001b[38;5;129;01min\u001b[39;00m \u001b[38;5;28mrange\u001b[39m(\u001b[38;5;241m0\u001b[39m,i\u001b[38;5;241m-\u001b[39m\u001b[38;5;241m1\u001b[39m):\n\u001b[1;32m     11\u001b[0m     \u001b[38;5;28;01mif\u001b[39;00m s[j] \u001b[38;5;241m<\u001b[39m s[i\u001b[38;5;241m-\u001b[39m\u001b[38;5;241m1\u001b[39m]:\n\u001b[0;32m---> 12\u001b[0m         res \u001b[38;5;241m=\u001b[39m \u001b[38;5;28mmax\u001b[39m(res,\u001b[43mrec_lis\u001b[49m\u001b[43m(\u001b[49m\u001b[43mj\u001b[49m\u001b[43m)\u001b[49m)\n\u001b[1;32m     13\u001b[0m \u001b[38;5;28;01mreturn\u001b[39;00m res\n",
      "Cell \u001b[0;32mIn[9], line 14\u001b[0m, in \u001b[0;36mrec_lis\u001b[0;34m(s)\u001b[0m\n\u001b[1;32m     12\u001b[0m             res \u001b[38;5;241m=\u001b[39m \u001b[38;5;28mmax\u001b[39m(res,rec_lis(j))\n\u001b[1;32m     13\u001b[0m     \u001b[38;5;28;01mreturn\u001b[39;00m res\n\u001b[0;32m---> 14\u001b[0m \u001b[38;5;28;01mreturn\u001b[39;00m rec_func(\u001b[38;5;28;43mlen\u001b[39;49m\u001b[43m(\u001b[49m\u001b[43ms\u001b[49m\u001b[43m)\u001b[49m)\n",
      "\u001b[0;31mTypeError\u001b[0m: object of type 'int' has no len()"
     ]
    }
   ],
   "source": [
    "# longest increasing sequence, would be easy to know if had length of preceeding\n",
    "\n",
    "\n",
    "def rec_lis(s):\n",
    "    @memo\n",
    "    def rec_func(i):\n",
    "        if i == 1:\n",
    "            return 1\n",
    "        res = 1\n",
    "        for j in range(0,i-1):\n",
    "            if s[j] < s[i-1]:\n",
    "                res = max(res,rec_lis(j)+1)\n",
    "        return res\n",
    "    return max(rec_func(i) for i in range(len(s)))\n",
    "\n",
    "rec_lis([0,3,5,2,3,4,5,6,7,2,3])\n"
   ]
  },
  {
   "cell_type": "code",
   "execution_count": 168,
   "metadata": {},
   "outputs": [
    {
     "name": "stdout",
     "output_type": "stream",
     "text": [
      "> \u001b[0;32m/var/folders/4n/kc5jn1hx00zgldnnmqmjh1jw0000gn/T/ipykernel_92438/436787307.py\u001b[0m(14)\u001b[0;36mrec_lis\u001b[0;34m()\u001b[0m\n",
      "\u001b[0;32m     12 \u001b[0;31m                \u001b[0mres\u001b[0m \u001b[0;34m=\u001b[0m \u001b[0mmax\u001b[0m\u001b[0;34m(\u001b[0m\u001b[0mres\u001b[0m\u001b[0;34m,\u001b[0m\u001b[0mrec_lis\u001b[0m\u001b[0;34m(\u001b[0m\u001b[0mi\u001b[0m\u001b[0;34m-\u001b[0m\u001b[0;36m1\u001b[0m\u001b[0;34m)\u001b[0m\u001b[0;34m)\u001b[0m\u001b[0;34m\u001b[0m\u001b[0;34m\u001b[0m\u001b[0m\n",
      "\u001b[0m\u001b[0;32m     13 \u001b[0;31m        \u001b[0;32mreturn\u001b[0m \u001b[0mres\u001b[0m\u001b[0;34m\u001b[0m\u001b[0;34m\u001b[0m\u001b[0m\n",
      "\u001b[0m\u001b[0;32m---> 14 \u001b[0;31m    \u001b[0;32mreturn\u001b[0m \u001b[0mrec_func\u001b[0m\u001b[0;34m(\u001b[0m\u001b[0mlen\u001b[0m\u001b[0;34m(\u001b[0m\u001b[0ms\u001b[0m\u001b[0;34m)\u001b[0m\u001b[0;34m)\u001b[0m\u001b[0;34m\u001b[0m\u001b[0;34m\u001b[0m\u001b[0m\n",
      "\u001b[0m\u001b[0;32m     15 \u001b[0;31m\u001b[0;34m\u001b[0m\u001b[0m\n",
      "\u001b[0m\u001b[0;32m     16 \u001b[0;31m\u001b[0mrec_lis\u001b[0m\u001b[0;34m(\u001b[0m\u001b[0;34m[\u001b[0m\u001b[0;36m0\u001b[0m\u001b[0;34m,\u001b[0m\u001b[0;36m3\u001b[0m\u001b[0;34m,\u001b[0m\u001b[0;36m5\u001b[0m\u001b[0;34m,\u001b[0m\u001b[0;36m2\u001b[0m\u001b[0;34m,\u001b[0m\u001b[0;36m3\u001b[0m\u001b[0;34m,\u001b[0m\u001b[0;36m4\u001b[0m\u001b[0;34m,\u001b[0m\u001b[0;36m5\u001b[0m\u001b[0;34m,\u001b[0m\u001b[0;36m6\u001b[0m\u001b[0;34m,\u001b[0m\u001b[0;36m7\u001b[0m\u001b[0;34m,\u001b[0m\u001b[0;36m2\u001b[0m\u001b[0;34m,\u001b[0m\u001b[0;36m3\u001b[0m\u001b[0;34m]\u001b[0m\u001b[0;34m)\u001b[0m\u001b[0;34m\u001b[0m\u001b[0;34m\u001b[0m\u001b[0m\n",
      "\u001b[0m\n"
     ]
    }
   ],
   "source": []
  },
  {
   "cell_type": "code",
   "execution_count": null,
   "metadata": {},
   "outputs": [],
   "source": [
    "print('hi')"
   ]
  },
  {
   "cell_type": "code",
   "execution_count": null,
   "metadata": {},
   "outputs": [],
   "source": []
  }
 ],
 "metadata": {
  "kernelspec": {
   "display_name": "Python 3",
   "language": "python",
   "name": "python3"
  },
  "language_info": {
   "codemirror_mode": {
    "name": "ipython",
    "version": 3
   },
   "file_extension": ".py",
   "mimetype": "text/x-python",
   "name": "python",
   "nbconvert_exporter": "python",
   "pygments_lexer": "ipython3",
   "version": "3.9.6"
  }
 },
 "nbformat": 4,
 "nbformat_minor": 2
}
